{
 "cells": [
  {
   "cell_type": "markdown",
   "id": "5f5dc663",
   "metadata": {},
   "source": [
    "# 02 - GPU Operator Installation\n",
    "\n",
    "Install NVIDIA GPU Operator in K3s cluster, confirm that Kubernetes can detect and schedule GPU resources\n",
    "- [NVIDIA GPU Operator Docs](https://docs.nvidia.com/datacenter/cloud-native/gpu-operator/latest/index.html)"
   ]
  },
  {
   "cell_type": "markdown",
   "id": "11651387",
   "metadata": {},
   "source": [
    "## Setup"
   ]
  },
  {
   "cell_type": "code",
   "execution_count": 2,
   "id": "d5331f2c",
   "metadata": {},
   "outputs": [],
   "source": [
    "import os"
   ]
  },
  {
   "cell_type": "markdown",
   "id": "a4eed5f2",
   "metadata": {},
   "source": [
    "**Prerequisites**\n",
    "- `nvidia-smi`\n",
    "- `helm`\n",
    "    ```bash\n",
    "        curl https://raw.githubusercontent.com/helm/helm/main/scripts/get-helm-3 | bash\n",
    "    ```"
   ]
  },
  {
   "cell_type": "markdown",
   "id": "e9e57068",
   "metadata": {},
   "source": [
    "## Install"
   ]
  },
  {
   "cell_type": "markdown",
   "id": "3fc0688e",
   "metadata": {},
   "source": [
    "### 1. Add NVIDIA Helm repo"
   ]
  },
  {
   "cell_type": "markdown",
   "id": "39175b40",
   "metadata": {},
   "source": [
    "\n",
    "Add the chart source required to install the GPU Operator"
   ]
  },
  {
   "cell_type": "code",
   "execution_count": 1,
   "id": "cda19fa4",
   "metadata": {},
   "outputs": [
    {
     "name": "stdout",
     "output_type": "stream",
     "text": [
      "\"nvidia\" has been added to your repositories\n"
     ]
    }
   ],
   "source": [
    "!helm repo add nvidia https://nvidia.github.io/gpu-operator"
   ]
  },
  {
   "cell_type": "code",
   "execution_count": 2,
   "id": "bb190cc4",
   "metadata": {},
   "outputs": [
    {
     "name": "stdout",
     "output_type": "stream",
     "text": [
      "Hang tight while we grab the latest from your chart repositories...\n",
      "...Successfully got an update from the \"nvidia\" chart repository\n",
      "Update Complete. ⎈Happy Helming!⎈\n"
     ]
    }
   ],
   "source": [
    "!helm repo update"
   ]
  },
  {
   "cell_type": "markdown",
   "id": "0004f12e",
   "metadata": {},
   "source": [
    "### 2. Install GPU Operator"
   ]
  },
  {
   "cell_type": "markdown",
   "id": "f7c12f2d",
   "metadata": {},
   "source": [
    "Install the operator into its own namespace "
   ]
  },
  {
   "cell_type": "code",
   "execution_count": 3,
   "id": "bf8fb97b",
   "metadata": {},
   "outputs": [
    {
     "name": "stdout",
     "output_type": "stream",
     "text": [
      "I0803 22:11:52.207022  124609 warnings.go:110] \"Warning: spec.template.spec.affinity.nodeAffinity.preferredDuringSchedulingIgnoredDuringExecution[0].preference.matchExpressions[0].key: node-role.kubernetes.io/master is use \\\"node-role.kubernetes.io/control-plane\\\" instead\"\n",
      "I0803 22:11:52.207267  124609 warnings.go:110] \"Warning: spec.template.spec.affinity.nodeAffinity.preferredDuringSchedulingIgnoredDuringExecution[0].preference.matchExpressions[0].key: node-role.kubernetes.io/master is use \\\"node-role.kubernetes.io/control-plane\\\" instead\"\n",
      "NAME: gpu-operator\n",
      "LAST DEPLOYED: Sun Aug  3 22:11:51 2025\n",
      "NAMESPACE: gpu-operator\n",
      "STATUS: deployed\n",
      "REVISION: 1\n",
      "TEST SUITE: None\n"
     ]
    }
   ],
   "source": [
    "!helm install --wait gpu-operator nvidia/gpu-operator --create-namespace --namespace gpu-operator"
   ]
  },
  {
   "cell_type": "markdown",
   "id": "4f57cc77",
   "metadata": {},
   "source": [
    "### 3. Check operator pods  "
   ]
  },
  {
   "cell_type": "markdown",
   "id": "e40af126",
   "metadata": {},
   "source": [
    "Verify that the GPU operator components are running:\n",
    "\n",
    "- `gpu-operator`: the controller that manages all GPU-related resources\n",
    "- `nvidia-device-plugin-daemonset`: exposes GPUs to Kubernetes via `nvidia.com/gpu`\n",
    "- `nvidia-dcgm-exporter`: collects GPU metrics for Prometheus\n",
    "- `nvidia-container-toolkit-daemonset`: configures container runtimes for GPU access\n",
    "- `gpu-feature-discovery`: labels the node with GPU capabilities\n",
    "- `nvidia-operator-validator`: checks compatibility (drivers, kernel, etc.)"
   ]
  },
  {
   "cell_type": "code",
   "execution_count": 6,
   "id": "04ab37e2",
   "metadata": {},
   "outputs": [
    {
     "name": "stdout",
     "output_type": "stream",
     "text": [
      "NAME                                                          READY   STATUS     RESTARTS       AGE\n",
      "gpu-feature-discovery-cqtwn                                   0/1     Init:0/1   0              6m10s\n",
      "gpu-operator-5798b5b564-tll5t                                 1/1     Running    0              6m34s\n",
      "gpu-operator-node-feature-discovery-gc-86f6495b55-mfbng       1/1     Running    0              6m34s\n",
      "gpu-operator-node-feature-discovery-master-694467d5db-85dgr   1/1     Running    0              6m34s\n",
      "gpu-operator-node-feature-discovery-worker-2rfmj              1/1     Running    0              6m34s\n",
      "nvidia-container-toolkit-daemonset-xzhlc                      1/1     Running    5 (105s ago)   6m12s\n",
      "nvidia-dcgm-exporter-ncjsn                                    0/1     Init:0/1   0              6m11s\n",
      "nvidia-device-plugin-daemonset-t4vr8                          0/1     Init:0/1   0              6m11s\n",
      "nvidia-operator-validator-zr9lc                               0/1     Init:0/4   0              6m12s\n"
     ]
    }
   ],
   "source": [
    "!kubectl get pods -n gpu-operator"
   ]
  },
  {
   "cell_type": "code",
   "execution_count": null,
   "id": "d9b83c7e",
   "metadata": {},
   "outputs": [],
   "source": []
  },
  {
   "cell_type": "code",
   "execution_count": null,
   "id": "ca0c6f4c",
   "metadata": {},
   "outputs": [],
   "source": []
  },
  {
   "cell_type": "code",
   "execution_count": null,
   "id": "c8e2ade8",
   "metadata": {},
   "outputs": [],
   "source": []
  },
  {
   "cell_type": "code",
   "execution_count": null,
   "id": "867853de",
   "metadata": {},
   "outputs": [],
   "source": []
  },
  {
   "cell_type": "code",
   "execution_count": null,
   "id": "5adbd9c2",
   "metadata": {},
   "outputs": [],
   "source": []
  },
  {
   "cell_type": "markdown",
   "id": "6e5a018e",
   "metadata": {},
   "source": [
    "Run in the terminal:\n",
    "\n",
    "```bash\n",
    "    !curl -sfL https://get.k3s.io | sh -\n",
    "```"
   ]
  },
  {
   "cell_type": "markdown",
   "id": "f2e8e71f",
   "metadata": {},
   "source": [
    "Tell kubectl to use the kubeconfig generated by K3s"
   ]
  },
  {
   "cell_type": "code",
   "execution_count": 4,
   "id": "06c0ddc3",
   "metadata": {},
   "outputs": [],
   "source": [
    "os.environ[\"KUBECONFIG\"] = \"/etc/rancher/k3s/k3s.yaml\""
   ]
  },
  {
   "cell_type": "markdown",
   "id": "984f3099",
   "metadata": {},
   "source": [
    "You may want to make the `/etc/rancher/k3s/k3s.yaml` file world-readable:\n",
    "```bash\n",
    "    sudo chmod 644 /etc/rancher/k3s/k3s.yaml\n",
    "```"
   ]
  },
  {
   "cell_type": "markdown",
   "id": "0e63d658",
   "metadata": {},
   "source": [
    "### Verify"
   ]
  },
  {
   "cell_type": "code",
   "execution_count": 6,
   "id": "bdcb877d",
   "metadata": {},
   "outputs": [
    {
     "name": "stdout",
     "output_type": "stream",
     "text": [
      "NAME       STATUS   ROLES                  AGE     VERSION\n",
      "laniakea   Ready    control-plane,master   8m10s   v1.33.3+k3s1\n"
     ]
    }
   ],
   "source": [
    "!kubectl get nodes"
   ]
  },
  {
   "cell_type": "code",
   "execution_count": 7,
   "id": "e0f97aaf",
   "metadata": {},
   "outputs": [
    {
     "name": "stdout",
     "output_type": "stream",
     "text": [
      "NAMESPACE     NAME                                      READY   STATUS      RESTARTS   AGE\n",
      "kube-system   coredns-5688667fd4-mmqbg                  1/1     Running     0          8m30s\n",
      "kube-system   helm-install-traefik-crd-sm2vd            0/1     Completed   0          8m30s\n",
      "kube-system   helm-install-traefik-vhzfv                0/1     Completed   1          8m30s\n",
      "kube-system   local-path-provisioner-774c6665dc-tdw8s   1/1     Running     0          8m30s\n",
      "kube-system   metrics-server-6f4c6675d5-ts7dz           1/1     Running     0          8m30s\n",
      "kube-system   svclb-traefik-e02ee076-s64zm              2/2     Running     0          8m10s\n",
      "kube-system   traefik-c98fdf6fb-nh2hh                   1/1     Running     0          8m10s\n"
     ]
    }
   ],
   "source": [
    "!kubectl get pods -A"
   ]
  },
  {
   "cell_type": "markdown",
   "id": "b2939c2a",
   "metadata": {},
   "source": [
    "If the node is \"Ready\" and system pods are running - K3s cluster is healthy"
   ]
  },
  {
   "cell_type": "markdown",
   "id": "d8d3a6be",
   "metadata": {},
   "source": [
    "## Test"
   ]
  },
  {
   "cell_type": "markdown",
   "id": "33c6b294",
   "metadata": {},
   "source": [
    "Create a simple BusyBox pod that sleeps for 1 hour, to confirm the cluster can schedule workloads"
   ]
  },
  {
   "cell_type": "code",
   "execution_count": 9,
   "id": "2d097da2",
   "metadata": {},
   "outputs": [
    {
     "name": "stdout",
     "output_type": "stream",
     "text": [
      "Writing ../deployments/test-pod.yaml\n"
     ]
    }
   ],
   "source": [
    "%%writefile ../deployments/test-pod.yaml\n",
    "apiVersion: v1\n",
    "kind: Pod\n",
    "metadata:\n",
    "  name: k3s-test-pod\n",
    "spec:\n",
    "  containers:\n",
    "  - name: busybox\n",
    "    image: busybox\n",
    "    command: [\"sleep\", \"3600\"]"
   ]
  },
  {
   "cell_type": "code",
   "execution_count": 11,
   "id": "af5dd12c",
   "metadata": {},
   "outputs": [
    {
     "name": "stdout",
     "output_type": "stream",
     "text": [
      "pod/k3s-test-pod created\n"
     ]
    }
   ],
   "source": [
    "!kubectl apply -f ../deployments/test-pod.yaml"
   ]
  },
  {
   "cell_type": "code",
   "execution_count": 13,
   "id": "02f889f9",
   "metadata": {},
   "outputs": [
    {
     "name": "stdout",
     "output_type": "stream",
     "text": [
      "NAME           READY   STATUS    RESTARTS   AGE\n",
      "k3s-test-pod   1/1     Running   0          16s\n"
     ]
    }
   ],
   "source": [
    "!kubectl get pod k3s-test-pod"
   ]
  },
  {
   "cell_type": "code",
   "execution_count": 14,
   "id": "eadde106",
   "metadata": {},
   "outputs": [
    {
     "name": "stdout",
     "output_type": "stream",
     "text": [
      "error: error from server (NotFound): pods \"pod\" not found in namespace \"default\"\n"
     ]
    }
   ],
   "source": [
    "!kubectl logs pod k3s-test-pod"
   ]
  },
  {
   "cell_type": "markdown",
   "id": "b17564ea",
   "metadata": {},
   "source": [
    "### K9s (Optional)"
   ]
  },
  {
   "cell_type": "markdown",
   "id": "64982cf1",
   "metadata": {},
   "source": [
    "If using K9s, link the K3s config so it works out of the box\n",
    "\n",
    "```bash\n",
    "    ln -s /etc/rancher/k3s/k3s.yaml ~/.kube/config\n",
    "```\n"
   ]
  },
  {
   "cell_type": "code",
   "execution_count": 15,
   "id": "a6c81857",
   "metadata": {},
   "outputs": [],
   "source": [
    "!ln -s /etc/rancher/k3s/k3s.yaml ~/.kube/config"
   ]
  },
  {
   "cell_type": "markdown",
   "id": "09a2c73d",
   "metadata": {},
   "source": [
    "![K9s pods](../outputs/screenshots/01_k9s-pods.png)"
   ]
  },
  {
   "cell_type": "markdown",
   "id": "614a7a84",
   "metadata": {},
   "source": [
    "![K9s pulses](../outputs/screenshots/01_k9s-pulses.png)"
   ]
  },
  {
   "cell_type": "markdown",
   "id": "462c1ba8",
   "metadata": {},
   "source": [
    "![K9s xray](../outputs/screenshots/01_k9s-xray-pods.png)"
   ]
  },
  {
   "cell_type": "markdown",
   "id": "87c19dd3",
   "metadata": {},
   "source": [
    "## Summary\n",
    "- K3s installed and tested"
   ]
  },
  {
   "cell_type": "markdown",
   "id": "7b7adb72",
   "metadata": {},
   "source": [
    "## Cleanup"
   ]
  },
  {
   "cell_type": "code",
   "execution_count": 16,
   "id": "38de96c2",
   "metadata": {},
   "outputs": [
    {
     "name": "stdout",
     "output_type": "stream",
     "text": [
      "pod \"k3s-test-pod\" deleted\n",
      "^C\n"
     ]
    }
   ],
   "source": [
    "!kubectl delete pod k3s-test-pod"
   ]
  }
 ],
 "metadata": {
  "kernelspec": {
   "display_name": "gpu-serving",
   "language": "python",
   "name": "python3"
  },
  "language_info": {
   "codemirror_mode": {
    "name": "ipython",
    "version": 3
   },
   "file_extension": ".py",
   "mimetype": "text/x-python",
   "name": "python",
   "nbconvert_exporter": "python",
   "pygments_lexer": "ipython3",
   "version": "3.12.2"
  }
 },
 "nbformat": 4,
 "nbformat_minor": 5
}
